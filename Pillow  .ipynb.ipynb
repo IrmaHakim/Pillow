{
 "cells": [
  {
   "cell_type": "code",
   "execution_count": 1,
   "id": "d80f90f2",
   "metadata": {},
   "outputs": [],
   "source": [
    "import PIL"
   ]
  },
  {
   "cell_type": "code",
   "execution_count": 2,
   "id": "ce0aed39",
   "metadata": {},
   "outputs": [],
   "source": [
    "from PIL import Image"
   ]
  },
  {
   "cell_type": "code",
   "execution_count": 9,
   "id": "2b7097af",
   "metadata": {},
   "outputs": [],
   "source": [
    "img = Image.open(r\"kitten.jpg\")\n",
    "img.show()\n",
    "                 "
   ]
  },
  {
   "cell_type": "code",
   "execution_count": 4,
   "id": "f8780b20",
   "metadata": {},
   "outputs": [
    {
     "name": "stdout",
     "output_type": "stream",
     "text": [
      "RGB\n"
     ]
    }
   ],
   "source": [
    "print(img.mode)"
   ]
  },
  {
   "cell_type": "code",
   "execution_count": 5,
   "id": "b4453cba",
   "metadata": {},
   "outputs": [
    {
     "name": "stdout",
     "output_type": "stream",
     "text": [
      "(900, 1184)\n"
     ]
    }
   ],
   "source": [
    "print(img.size)"
   ]
  },
  {
   "cell_type": "code",
   "execution_count": 6,
   "id": "d519fae4",
   "metadata": {},
   "outputs": [
    {
     "name": "stdout",
     "output_type": "stream",
     "text": [
      "JPEG\n"
     ]
    }
   ],
   "source": [
    "print(img.format)"
   ]
  },
  {
   "cell_type": "code",
   "execution_count": 11,
   "id": "22a2b913",
   "metadata": {},
   "outputs": [],
   "source": [
    "angle = 45\n",
    "rotated_image = img.rotate(angle)\n",
    "rotated_image.show()\n",
    "rotated_image.save(\"Rotated kitten.jpg\")"
   ]
  },
  {
   "cell_type": "code",
   "execution_count": 13,
   "id": "9584df2d",
   "metadata": {},
   "outputs": [
    {
     "name": "stdout",
     "output_type": "stream",
     "text": [
      "(200, 200)\n"
     ]
    }
   ],
   "source": [
    "size = (200,200)\n",
    "resized_image = img.resize(size)\n",
    "resized_image.show()\n",
    "resized_image.save(\"Resized kitten.jpg\")\n",
    "print(resized_image.size)"
   ]
  },
  {
   "cell_type": "code",
   "execution_count": null,
   "id": "e77fed3a",
   "metadata": {},
   "outputs": [],
   "source": []
  }
 ],
 "metadata": {
  "kernelspec": {
   "display_name": "Python 3 (ipykernel)",
   "language": "python",
   "name": "python3"
  },
  "language_info": {
   "codemirror_mode": {
    "name": "ipython",
    "version": 3
   },
   "file_extension": ".py",
   "mimetype": "text/x-python",
   "name": "python",
   "nbconvert_exporter": "python",
   "pygments_lexer": "ipython3",
   "version": "3.8.7"
  }
 },
 "nbformat": 4,
 "nbformat_minor": 5
}
